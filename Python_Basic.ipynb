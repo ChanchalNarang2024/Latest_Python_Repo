{
 "cells": [
  {
   "cell_type": "markdown",
   "id": "feb57eeb-f077-47b5-aca6-e80c335d14c5",
   "metadata": {},
   "source": [
    "## Control Flows and LOOPS"
   ]
  },
  {
   "cell_type": "code",
   "execution_count": 9,
   "id": "747cefa1-5407-4c06-8f03-b6d1970c5811",
   "metadata": {},
   "outputs": [
    {
     "name": "stdin",
     "output_type": "stream",
     "text": [
      "EnterAge 45\n"
     ]
    },
    {
     "data": {
      "text/plain": [
       "45"
      ]
     },
     "execution_count": 9,
     "metadata": {},
     "output_type": "execute_result"
    }
   ],
   "source": [
    "#If,elif,else,nestedif\n",
    "age=int(input('EnterAge'))\n",
    "age"
   ]
  },
  {
   "cell_type": "code",
   "execution_count": 10,
   "id": "7b2af8b5-ea65-4043-aa3b-0dfdfc12d248",
   "metadata": {},
   "outputs": [
    {
     "name": "stdout",
     "output_type": "stream",
     "text": [
      "Absolutely permitted to drive\n"
     ]
    }
   ],
   "source": [
    "if age<18:\n",
    "    print('Not Permitted to drive')\n",
    "elif age==18:\n",
    "     print('Permitted to drive')\n",
    "elif age>18:\n",
    "     print('Absolutely permitted to drive')"
   ]
  },
  {
   "cell_type": "code",
   "execution_count": 11,
   "id": "ffce3c7b-1d7e-4f13-9964-5a009a419523",
   "metadata": {},
   "outputs": [
    {
     "name": "stdin",
     "output_type": "stream",
     "text": [
      "Class 10 Result?Y/N: Y\n",
      "Enter Total Marks: 100\n"
     ]
    },
    {
     "name": "stdout",
     "output_type": "stream",
     "text": [
      "Topped with full marks\n"
     ]
    }
   ],
   "source": [
    "Tenth_result=input('Class 10 Result?Y/N:')\n",
    "if Tenth_result=='Y':\n",
    "   Marks=int(input('Enter Total Marks:'))\n",
    "   percentage=(Marks/100)*100\n",
    "   if percentage==100:\n",
    "      print('Topped with full marks')\n",
    "   elif percentage>90 and percentage<100:\n",
    "        print('First')\n",
    "   elif percentage>70 and percentage<90:\n",
    "        print('Second')\n",
    "   elif percentage>33 and percentage<70:\n",
    "        print('Passed')\n",
    "   elif percentage<33:\n",
    "        print('Failed')\n",
    "   else:\n",
    "        print('percentage can not exceed 100.Input should be in range 0 to 100')\n",
    "    "
   ]
  },
  {
   "cell_type": "code",
   "execution_count": 12,
   "id": "5704b2a2-d9fd-4ede-9c17-81defc2c69e2",
   "metadata": {},
   "outputs": [
    {
     "name": "stdout",
     "output_type": "stream",
     "text": [
      "NormalExecution 1  \n",
      "NormalExecution 2  \n",
      "NormalExecution 3  \n",
      "NormalExecution 4  \n",
      "NormalExecution 5  \n",
      "NormalExecution 6  \n",
      "NormalExecution 7  \n",
      "NormalExecution 8  \n",
      "Normal while Execution 1\n",
      "Normal while Execution 2\n",
      "Normal while Execution 3\n",
      "Normal while Execution 4\n",
      "Normal while Execution 5\n",
      "Normal while Execution 6\n",
      "Normal while Execution 7\n",
      "Normal while Execution 8\n"
     ]
    }
   ],
   "source": [
    "##Loops For,while,break,continue,pass\n",
    "list1=[1,2,3,4,5,6,7,8]\n",
    "size=len(list1)\n",
    "for el in list1:\n",
    "    print('NormalExecution',el,' ')\n",
    "\n",
    "el=1\n",
    "while el<=list1[size-1]:\n",
    "      print('Normal while Execution',el)\n",
    "      el=el+1\n",
    "    \n"
   ]
  },
  {
   "cell_type": "code",
   "execution_count": 13,
   "id": "bfe5675f-7c90-4b69-a290-3ef706537eab",
   "metadata": {},
   "outputs": [
    {
     "name": "stdout",
     "output_type": "stream",
     "text": [
      "execution will break at value 4: 1\n",
      "execution will break at value 4: 2\n",
      "execution will break at value 4: 3\n"
     ]
    }
   ],
   "source": [
    "#Execution with break \n",
    "#Break (exit loop when element value is 4)\n",
    "\n",
    "list1=[1,2,3,4,5,6,7,8]\n",
    "size=len(list1)\n",
    "for el in list1:\n",
    "    if el==4:\n",
    "       break\n",
    "    else:\n",
    "       print('execution will break at value 4:',el)"
   ]
  },
  {
   "cell_type": "code",
   "execution_count": 14,
   "id": "8ca1ccf9-5199-4f67-a5c2-05c8fcb4ae22",
   "metadata": {},
   "outputs": [
    {
     "name": "stdout",
     "output_type": "stream",
     "text": [
      "execution will break at value 4: 1\n",
      "execution will break at value 4: 2\n",
      "execution will break at value 4: 3\n"
     ]
    }
   ],
   "source": [
    "list1=[1,2,3,4,5,6,7,8]\n",
    "size=len(list1)\n",
    "el=1\n",
    "while list1.index(el)<=size:\n",
    "    if el==4:\n",
    "       break\n",
    "    else:\n",
    "       print('execution will break at value 4:',el)\n",
    "       el=el+1\n",
    "\n",
    "        "
   ]
  },
  {
   "cell_type": "code",
   "execution_count": 15,
   "id": "aaf377d7-b79f-40e5-9ded-0ae889fc7d36",
   "metadata": {},
   "outputs": [
    {
     "name": "stdout",
     "output_type": "stream",
     "text": [
      "execution will break at value 4: 1\n",
      "execution will break at value 4: 2\n",
      "execution will break at value 4: 3\n",
      "execution will break at value 4: 5\n",
      "execution will break at value 4: 6\n",
      "execution will break at value 4: 7\n",
      "execution will break at value 4: 8\n"
     ]
    }
   ],
   "source": [
    "\n",
    "list1=[1,2,3,4,5,6,7,8]\n",
    "size=len(list1)\n",
    "for el in list1:\n",
    "    if el==4:\n",
    "      continue\n",
    "    else:\n",
    "       print('execution will break at value 4:',el)"
   ]
  },
  {
   "cell_type": "code",
   "execution_count": 25,
   "id": "f97018e7-4464-40d6-b164-7804dfccdefb",
   "metadata": {},
   "outputs": [
    {
     "name": "stdout",
     "output_type": "stream",
     "text": [
      "execution will break at value 4: 1\n",
      "execution will break at value 4: 2\n",
      "execution will break at value 4: 3\n",
      "execution will break at value 4: 5\n",
      "execution will break at value 4: 6\n",
      "execution will break at value 4: 7\n"
     ]
    }
   ],
   "source": [
    "list1=[1,2,3,4,5,6,7,8]\n",
    "size=len(list1)\n",
    "current_index=0\n",
    "last_index=size-1\n",
    "while current_index<last_index:\n",
    "        if list1[current_index]==4:\n",
    "            current_index=current_index+1\n",
    "            continue\n",
    "        else:\n",
    "          print('execution will break at value 4:',list1[current_index])\n",
    "          current_index=current_index+1     "
   ]
  },
  {
   "cell_type": "markdown",
   "id": "9c481106-83be-400d-b713-04b1397f94bb",
   "metadata": {},
   "source": [
    "## Python_Operators:\n",
    "**logical,Equality,comparison,arithmetic operators**"
   ]
  },
  {
   "cell_type": "markdown",
   "id": "a8ffdc40-52fc-4daf-ac40-c641625b3593",
   "metadata": {},
   "source": [
    "**LogicalOperators (and ,or,not)**"
   ]
  },
  {
   "cell_type": "code",
   "execution_count": 7,
   "id": "6bf45c4c-e6f2-4165-8ad6-cfd6a45db2f5",
   "metadata": {},
   "outputs": [
    {
     "name": "stdout",
     "output_type": "stream",
     "text": [
      "True //a and b are true\n",
      "False //a is True c is False\n",
      "False //a is true and d is False\n",
      "False //c and d both are false\n",
      "False //a is True\n",
      "True //c is False\n",
      "True //a and b are true\n",
      "True //a is True c is False\n",
      "True //a is true and d is False\n",
      "False //c and d both are false\n"
     ]
    }
   ],
   "source": [
    "# and results True if both conditions are true else it results False\n",
    "a=True\n",
    "b=True\n",
    "c=False\n",
    "d=False\n",
    "print(a and b,'//a and b are true')\n",
    "print(a and c,'//a is True c is False')\n",
    "print(a and d,'//a is true and d is False')\n",
    "print(c and d,'//c and d both are false')\n",
    "#not revert the value True to False and False to True\n",
    "print(not a,'//a is True')\n",
    "print(not c,'//c is False')\n",
    "# or returns True if any one condition or both condition are True else False\n",
    "print(a or b,'//a and b are true')\n",
    "print(a or c,'//a is True c is False')\n",
    "print(a or d,'//a is true and d is False')\n",
    "print(c or d,'//c and d both are false')"
   ]
  },
  {
   "cell_type": "code",
   "execution_count": 13,
   "id": "f10c949e-9da4-4323-8548-2dec4d933685",
   "metadata": {},
   "outputs": [
    {
     "name": "stdout",
     "output_type": "stream",
     "text": [
      "True\n",
      "False\n",
      "True\n",
      "140713741452008 140713741452008 1539415000672 1539504402560 1539504402624\n",
      "True\n",
      "False\n"
     ]
    }
   ],
   "source": [
    "#Equality operator ==,is,id()\n",
    "#id() gives variable address\n",
    "# == checks value ,is checks value and address both\n",
    "a='abc'\n",
    "b='abc'\n",
    "c='def'\n",
    "list1=[1,2,3,4]\n",
    "list2=[1,2,3,4]\n",
    "#implementation of ==\n",
    "print(a==b)\n",
    "print(a==c)\n",
    "print(list1==list2)\n",
    "#implementation of id()\n",
    "print(id(a),id(b),id(c),id(list1),id(list2))\n",
    "#implementation of is\n",
    "print(a is b)\n",
    "print(list1 is list2)\n",
    "#each instance of list takes new memory address\n",
    "#is checks both value and address"
   ]
  },
  {
   "cell_type": "code",
   "execution_count": 18,
   "id": "0da89a62-006a-45db-a60d-25f752853e68",
   "metadata": {},
   "outputs": [
    {
     "name": "stdout",
     "output_type": "stream",
     "text": [
      "----lessthanEqual\n",
      "True\n",
      "True\n",
      "False\n",
      "----GreaterthanEqual\n",
      "False\n",
      "True\n",
      "True\n",
      "----Equals\n",
      "False\n",
      "True\n"
     ]
    }
   ],
   "source": [
    "#comparison operator(>=,<=,==)\n",
    "print('----lessthanEqual')\n",
    "print(8<=10) #returns True if value is less or equal to True else False\n",
    "print(10<=10)\n",
    "print(11<=10)\n",
    "print('----GreaterthanEqual')\n",
    "print(8>=10)#returns True if value is greater or equal to True else False\n",
    "print(11>=10)\n",
    "print(10>=10)\n",
    "print('----Equals')\n",
    "print(11==10)\n",
    "print(10==10)"
   ]
  },
  {
   "cell_type": "code",
   "execution_count": 20,
   "id": "8c480137-b4e2-44c1-8066-b688b08b2edf",
   "metadata": {},
   "outputs": [
    {
     "name": "stdout",
     "output_type": "stream",
     "text": [
      "15 5 50 2.0 2 0 2\n"
     ]
    }
   ],
   "source": [
    "# arithmetic Operator(+,-,/,*,%,//)\n",
    "a=10\n",
    "b=5\n",
    "print(a+b,a-b,a*b,a/b,a//b,a%b,a//b)\n"
   ]
  },
  {
   "cell_type": "code",
   "execution_count": null,
   "id": "34a73e6a-8a4d-4757-af0a-9e378e8bbb56",
   "metadata": {},
   "outputs": [],
   "source": []
  }
 ],
 "metadata": {
  "kernelspec": {
   "display_name": "Python 3 (ipykernel)",
   "language": "python",
   "name": "python3"
  },
  "language_info": {
   "codemirror_mode": {
    "name": "ipython",
    "version": 3
   },
   "file_extension": ".py",
   "mimetype": "text/x-python",
   "name": "python",
   "nbconvert_exporter": "python",
   "pygments_lexer": "ipython3",
   "version": "3.12.7"
  }
 },
 "nbformat": 4,
 "nbformat_minor": 5
}

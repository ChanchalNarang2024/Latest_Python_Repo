{
 "cells": [
  {
   "cell_type": "markdown",
   "id": "1dbdf9a4-94f2-404b-811e-5ebc5daed6ea",
   "metadata": {},
   "source": [
    "## Complete python playlist by krish naik "
   ]
  },
  {
   "cell_type": "code",
   "execution_count": 2,
   "id": "fe44c4a3-7aee-4751-973b-c881c4716827",
   "metadata": {},
   "outputs": [],
   "source": [
    "# importing libraries\n",
    "import pandas as pd\n",
    "import numpy as np\n",
    "import matplotlib.pyplot as plt\n",
    "import seaborn as sns"
   ]
  },
  {
   "cell_type": "markdown",
   "id": "a686365f-2130-4ead-a169-c2715c86679d",
   "metadata": {},
   "source": [
    "### Python Basics"
   ]
  },
  {
   "cell_type": "markdown",
   "id": "d0fc4e38-c2a0-40e4-ab91-9c205fbea5d6",
   "metadata": {},
   "source": [
    "## mathematical executions"
   ]
  },
  {
   "cell_type": "code",
   "execution_count": 2,
   "id": "6bbafa73-835b-4807-8959-e043acf00250",
   "metadata": {},
   "outputs": [
    {
     "data": {
      "text/plain": [
       "3"
      ]
     },
     "execution_count": 2,
     "metadata": {},
     "output_type": "execute_result"
    }
   ],
   "source": [
    "1+2"
   ]
  },
  {
   "cell_type": "code",
   "execution_count": 4,
   "id": "876b8b0e-a142-4288-9bea-c5f12b9151dc",
   "metadata": {},
   "outputs": [
    {
     "data": {
      "text/plain": [
       "10"
      ]
     },
     "execution_count": 4,
     "metadata": {},
     "output_type": "execute_result"
    }
   ],
   "source": [
    "a=10\n",
    "a"
   ]
  },
  {
   "cell_type": "code",
   "execution_count": 6,
   "id": "60d9017b-8bac-4dbb-878f-4fb32411ea46",
   "metadata": {},
   "outputs": [
    {
     "name": "stdout",
     "output_type": "stream",
     "text": [
      "15\n"
     ]
    }
   ],
   "source": [
    "print(a+5)"
   ]
  },
  {
   "cell_type": "code",
   "execution_count": 15,
   "id": "84d09e17-804a-4a53-9f02-2256fc039675",
   "metadata": {},
   "outputs": [
    {
     "name": "stdout",
     "output_type": "stream",
     "text": [
      "chanchal\n"
     ]
    }
   ],
   "source": [
    "#single line commentmultiline comment\n",
    "'''\n",
    "My name is channel and i a data scientist\n",
    "I am learning it\n",
    "'''\n",
    "print('chanchal')"
   ]
  },
  {
   "cell_type": "code",
   "execution_count": 17,
   "id": "fcbe0b42-77b6-486f-b811-7c43c24ffafe",
   "metadata": {},
   "outputs": [
    {
     "name": "stdout",
     "output_type": "stream",
     "text": [
      "<class 'int'>\n",
      "<class 'str'>\n",
      "<class 'bool'>\n",
      "<class 'float'>\n"
     ]
    }
   ],
   "source": [
    "#variable declaration and checking type with type function\n",
    "a=10\n",
    "print(type(a))\n",
    "b='chanchal'\n",
    "print(type(b))\n",
    "c=False\n",
    "print(type(c))\n",
    "d=1.5\n",
    "print(type(d))"
   ]
  },
  {
   "cell_type": "code",
   "execution_count": 20,
   "id": "4a01e184-3912-4588-a790-6cdc196829db",
   "metadata": {},
   "outputs": [
    {
     "name": "stdout",
     "output_type": "stream",
     "text": [
      "variable Rules\n"
     ]
    }
   ],
   "source": [
    "#variable name rules\n",
    "'''\n",
    "1. Variable name can't start with number\n",
    "2.Best syntax first_name\n",
    "3.Variable name can't start with underscore\n",
    "'''\n",
    "print('variable Rules')"
   ]
  },
  {
   "cell_type": "code",
   "execution_count": 26,
   "id": "ad2d6f7a-9974-4960-bf9e-7f94b9152dad",
   "metadata": {},
   "outputs": [
    {
     "name": "stdout",
     "output_type": "stream",
     "text": [
      "<class 'int'>\n",
      "<class 'float'>\n",
      "<class 'int'>\n",
      "<class 'bool'>\n",
      "<class 'int'>\n",
      "<class 'bool'>\n",
      "<class 'int'>\n",
      "<class 'str'>\n"
     ]
    }
   ],
   "source": [
    "# type casting\n",
    "# int to float\n",
    "a=1\n",
    "print(type(a))\n",
    "a=float(a)\n",
    "print(type(a))\n",
    "#int to Boolean\n",
    "a=0\n",
    "print(type(a))\n",
    "a=bool(a)\n",
    "print(type(a))\n",
    "a=1\n",
    "print(type(a))\n",
    "a=bool(a)\n",
    "print(type(a))\n",
    "a=23\n",
    "print(type(a))\n",
    "a=str(a)\n",
    "print(type(a))\n",
    "# Reverse is also possible"
   ]
  },
  {
   "cell_type": "code",
   "execution_count": 27,
   "id": "acd91238-c9cd-4335-8582-82cd0da09b9f",
   "metadata": {},
   "outputs": [
    {
     "name": "stdout",
     "output_type": "stream",
     "text": [
      "False\n",
      "True\n",
      "False\n",
      "False\n"
     ]
    }
   ],
   "source": [
    "#logical operation\n",
    "#and operator True only if both operands true\n",
    "a=True\n",
    "b=False\n",
    "c=a and b\n",
    "print(c)\n",
    "a=True\n",
    "b=True\n",
    "c=a and b\n",
    "print(c)\n",
    "a=False\n",
    "b=True\n",
    "c= a and b\n",
    "print(c)\n",
    "a=False\n",
    "b=False\n",
    "c=a and b\n",
    "print(c)"
   ]
  },
  {
   "cell_type": "code",
   "execution_count": 28,
   "id": "42acdd8e-1ea3-4c3a-859e-c56f69aff654",
   "metadata": {},
   "outputs": [
    {
     "name": "stdout",
     "output_type": "stream",
     "text": [
      "True\n",
      "True\n",
      "True\n",
      "False\n"
     ]
    }
   ],
   "source": [
    "#OR operator \n",
    "#True if any or both are True\n",
    "a=True\n",
    "b=False\n",
    "c=a or b\n",
    "print(c)\n",
    "a=True\n",
    "b=True\n",
    "c=a or b\n",
    "print(c)\n",
    "a=False\n",
    "b=True\n",
    "c= a or b\n",
    "print(c)\n",
    "a=False\n",
    "b=False\n",
    "c=a or b\n",
    "print(c)"
   ]
  },
  {
   "cell_type": "code",
   "execution_count": 31,
   "id": "5c1110aa-5f50-40ae-8718-eb9a13439454",
   "metadata": {},
   "outputs": [
    {
     "name": "stdout",
     "output_type": "stream",
     "text": [
      "chanchalnarang\n",
      "chanchal1\n"
     ]
    },
    {
     "ename": "TypeError",
     "evalue": "can only concatenate str (not \"int\") to str",
     "output_type": "error",
     "traceback": [
      "\u001b[1;31m---------------------------------------------------------------------------\u001b[0m",
      "\u001b[1;31mTypeError\u001b[0m                                 Traceback (most recent call last)",
      "Cell \u001b[1;32mIn[31], line 9\u001b[0m\n\u001b[0;32m      6\u001b[0m fullname_error_resolved\u001b[38;5;241m=\u001b[39mfirst_name\u001b[38;5;241m+\u001b[39m\u001b[38;5;124m'\u001b[39m\u001b[38;5;124m1\u001b[39m\u001b[38;5;124m'\u001b[39m\n\u001b[0;32m      7\u001b[0m \u001b[38;5;28mprint\u001b[39m(fullname_error_resolved)\n\u001b[1;32m----> 9\u001b[0m fullname_with_error\u001b[38;5;241m=\u001b[39mfirst_name\u001b[38;5;241m+\u001b[39m\u001b[38;5;241m1\u001b[39m\n",
      "\u001b[1;31mTypeError\u001b[0m: can only concatenate str (not \"int\") to str"
     ]
    }
   ],
   "source": [
    "#concatenation\n",
    "first_name='chanchal'\n",
    "last_name='narang'\n",
    "fullname=first_name+last_name\n",
    "print(fullname)\n",
    "fullname_error_resolved=first_name+'1'\n",
    "print(fullname_error_resolved)\n",
    "\n",
    "fullname_with_error=first_name+1\n",
    "#Error because string will concatenate only with string"
   ]
  },
  {
   "cell_type": "code",
   "execution_count": 33,
   "id": "6c1faeb9-6fbd-404e-b3c5-7ab400c0d7f7",
   "metadata": {},
   "outputs": [
    {
     "name": "stdout",
     "output_type": "stream",
     "text": [
      "First name is Chanchal and last name is Narang\n"
     ]
    }
   ],
   "source": [
    "# string formatting\n",
    "first_name=\"Chanchal\"\n",
    "last_name=\"Narang\"\n",
    "print(\"First name is {} and last name is {}\".format(first_name,last_name))"
   ]
  },
  {
   "cell_type": "code",
   "execution_count": 35,
   "id": "34bac127-207f-4c87-a875-a48c6038ef22",
   "metadata": {},
   "outputs": [
    {
     "name": "stdin",
     "output_type": "stream",
     "text": [
      "Enter the name: Chanchal\n",
      "Enter num1: 34\n",
      "Enter num2: 1\n"
     ]
    },
    {
     "name": "stdout",
     "output_type": "stream",
     "text": [
      "35\n"
     ]
    }
   ],
   "source": [
    "#input type\n",
    "Name=input('Enter the name:')\n",
    "Name\n",
    "#output is always a string\n",
    "#for addition\n",
    "num1=int(input('Enter num1:'))\n",
    "num2=int(input('Enter num2:'))\n",
    "result=num1+num2\n",
    "print(result)"
   ]
  },
  {
   "cell_type": "code",
   "execution_count": null,
   "id": "6976f268-a79f-49f0-b5cb-56404e028e6a",
   "metadata": {},
   "outputs": [],
   "source": []
  }
 ],
 "metadata": {
  "kernelspec": {
   "display_name": "Python 3 (ipykernel)",
   "language": "python",
   "name": "python3"
  },
  "language_info": {
   "codemirror_mode": {
    "name": "ipython",
    "version": 3
   },
   "file_extension": ".py",
   "mimetype": "text/x-python",
   "name": "python",
   "nbconvert_exporter": "python",
   "pygments_lexer": "ipython3",
   "version": "3.12.7"
  }
 },
 "nbformat": 4,
 "nbformat_minor": 5
}

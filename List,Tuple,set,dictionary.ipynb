{
 "cells": [
  {
   "cell_type": "markdown",
   "id": "94367c9f-9167-45e9-acaf-cc87b69633fa",
   "metadata": {},
   "source": [
    "## Lists"
   ]
  },
  {
   "cell_type": "markdown",
   "id": "11e23693-744e-4b56-b27f-1fbb27ffdfa1",
   "metadata": {},
   "source": [
    "* lists are\n",
    "  1. Mutable/Changeable\n",
    "  2. Ordered Sequence\n",
    "  3. List defined between [ ]\n",
    "  4. Can have values of different Datatype\n",
    "  \n",
    " **Each element or value that is inside of a list called item**"
   ]
  },
  {
   "cell_type": "code",
   "execution_count": 196,
   "id": "7ebae2aa-4cbc-4a0b-a403-0386d4972127",
   "metadata": {},
   "outputs": [
    {
     "data": {
      "text/plain": [
       "list"
      ]
     },
     "execution_count": 196,
     "metadata": {},
     "output_type": "execute_result"
    }
   ],
   "source": [
    "list1=[]\n",
    "type(list1)"
   ]
  },
  {
   "cell_type": "code",
   "execution_count": 197,
   "id": "d0ee9fc5-a799-416b-b4ac-294aab09e1ef",
   "metadata": {},
   "outputs": [
    {
     "data": {
      "text/plain": [
       "list"
      ]
     },
     "execution_count": 197,
     "metadata": {},
     "output_type": "execute_result"
    }
   ],
   "source": [
    "list2=list()\n",
    "type(list2)"
   ]
  },
  {
   "cell_type": "code",
   "execution_count": 198,
   "id": "19b8c2c6-fdef-45fa-8a8d-794e342d2439",
   "metadata": {},
   "outputs": [
    {
     "data": {
      "text/plain": [
       "['Chemistry', 99, 'Biology', 100]"
      ]
     },
     "execution_count": 198,
     "metadata": {},
     "output_type": "execute_result"
    }
   ],
   "source": [
    "#Entering list values\n",
    "list1=['Chemistry',99,'Biology',100]\n",
    "list1"
   ]
  },
  {
   "cell_type": "code",
   "execution_count": 199,
   "id": "dd223b59-eeea-49cc-9143-f2b01315bc82",
   "metadata": {},
   "outputs": [
    {
     "data": {
      "text/plain": [
       "4"
      ]
     },
     "execution_count": 199,
     "metadata": {},
     "output_type": "execute_result"
    }
   ],
   "source": [
    "#length of list using len() function\n",
    "len(list1)"
   ]
  },
  {
   "cell_type": "code",
   "execution_count": 200,
   "id": "3b456827-866f-4728-b9dc-e45837d8a303",
   "metadata": {},
   "outputs": [],
   "source": [
    "## append () to add element\n",
    "list1.append('maths')"
   ]
  },
  {
   "cell_type": "code",
   "execution_count": 201,
   "id": "3bd2bc09-4440-451c-a43f-60544d2fa041",
   "metadata": {},
   "outputs": [
    {
     "data": {
      "text/plain": [
       "['Chemistry', 99, 'Biology', 100, 'maths']"
      ]
     },
     "execution_count": 201,
     "metadata": {},
     "output_type": "execute_result"
    }
   ],
   "source": [
    "list1"
   ]
  },
  {
   "cell_type": "code",
   "execution_count": 202,
   "id": "6ea9ca77-3f20-49ff-b0a1-326bc17d323a",
   "metadata": {},
   "outputs": [
    {
     "data": {
      "text/plain": [
       "99"
      ]
     },
     "execution_count": 202,
     "metadata": {},
     "output_type": "execute_result"
    }
   ],
   "source": [
    "#indexing it starts with 0 to get 99 we will do as following\n",
    "list1[1] # returns value as index1"
   ]
  },
  {
   "cell_type": "code",
   "execution_count": 203,
   "id": "97d81829-308b-4dda-9c00-92a249425161",
   "metadata": {},
   "outputs": [
    {
     "data": {
      "text/plain": [
       "['Chemistry', 99, 'Biology', 100, 'maths']"
      ]
     },
     "execution_count": 203,
     "metadata": {},
     "output_type": "execute_result"
    }
   ],
   "source": [
    "#list1[startindex:endindex] reults value at at start index to endindex-1\n",
    "list1[:] # return complete list start to end\n"
   ]
  },
  {
   "cell_type": "code",
   "execution_count": 204,
   "id": "ea4b1f6e-9d6d-409b-933f-956a07f4585e",
   "metadata": {},
   "outputs": [
    {
     "data": {
      "text/plain": [
       "['Chemistry', 99]"
      ]
     },
     "execution_count": 204,
     "metadata": {},
     "output_type": "execute_result"
    }
   ],
   "source": [
    "list1[0:2] #returns values from index 0 to 1"
   ]
  },
  {
   "cell_type": "code",
   "execution_count": 205,
   "id": "dcf9ca96-dca2-43b6-92a5-15ebb74f0da1",
   "metadata": {},
   "outputs": [
    {
     "data": {
      "text/plain": [
       "['Chemistry', 'psychology', 200, 'Biology', 100, 'maths']"
      ]
     },
     "execution_count": 205,
     "metadata": {},
     "output_type": "execute_result"
    }
   ],
   "source": [
    "#insert method ,insert value at specified index\n",
    "list1.insert(1,'psychology')\n",
    "list1\n",
    "list1[2]=200\n",
    "list1"
   ]
  },
  {
   "cell_type": "code",
   "execution_count": 206,
   "id": "b0ab2c92-264c-46be-ab77-ef5d05fb65a4",
   "metadata": {},
   "outputs": [
    {
     "data": {
      "text/plain": [
       "['Chemistry', 'psychology', 200, 'Biology', 100, 'maths', [1, 2, 3]]"
      ]
     },
     "execution_count": 206,
     "metadata": {},
     "output_type": "execute_result"
    }
   ],
   "source": [
    "#nested list\n",
    "list1.append([1,2,3])\n",
    "list1"
   ]
  },
  {
   "cell_type": "code",
   "execution_count": 207,
   "id": "243ae0f5-b7d6-4f47-9056-89a42f9a2063",
   "metadata": {},
   "outputs": [
    {
     "data": {
      "text/plain": [
       "['Chemistry', 'psychology', 200, 'Biology', 100, 'maths', [1, 2, 3], 4, 5, 6]"
      ]
     },
     "execution_count": 207,
     "metadata": {},
     "output_type": "execute_result"
    }
   ],
   "source": [
    "#extend method\n",
    "list1.extend([4,5,6])\n",
    "list1"
   ]
  },
  {
   "cell_type": "code",
   "execution_count": 208,
   "id": "1413638c-d374-4945-8c5f-98030059f175",
   "metadata": {},
   "outputs": [
    {
     "data": {
      "text/plain": [
       "19"
      ]
     },
     "execution_count": 208,
     "metadata": {},
     "output_type": "execute_result"
    }
   ],
   "source": [
    "#summation of all integer list elements\n",
    "num_list=[1,4,6,8]\n",
    "sum(num_list)"
   ]
  },
  {
   "cell_type": "code",
   "execution_count": 209,
   "id": "3ca7017e-e15d-422c-898c-cea937a659db",
   "metadata": {},
   "outputs": [
    {
     "data": {
      "text/plain": [
       "['Chemistry', 'psychology', 200, 'Biology', 100, 'maths', [1, 2, 3], 4, 5]"
      ]
     },
     "execution_count": 209,
     "metadata": {},
     "output_type": "execute_result"
    }
   ],
   "source": [
    "# pop() with no value remove last element,pop with specific value remove value at given index\n",
    "#if you save it any variables you will get popped elements\n",
    "list1.pop()\n",
    "list1"
   ]
  },
  {
   "cell_type": "code",
   "execution_count": 210,
   "id": "c6f07a0c-fe60-4608-ae09-98d276962754",
   "metadata": {},
   "outputs": [
    {
     "data": {
      "text/plain": [
       "['Chemistry', 200, 'Biology', 100, 'maths', [1, 2, 3], 4, 5]"
      ]
     },
     "execution_count": 210,
     "metadata": {},
     "output_type": "execute_result"
    }
   ],
   "source": [
    "list1.pop(1)\n",
    "list1"
   ]
  },
  {
   "cell_type": "code",
   "execution_count": 211,
   "id": "8d31830a-ee2f-4546-9d3a-d00495690a42",
   "metadata": {},
   "outputs": [
    {
     "name": "stdout",
     "output_type": "stream",
     "text": [
      "5\n",
      "200\n"
     ]
    }
   ],
   "source": [
    "# you can save it element removed in  variables as follows\n",
    "popped_element=list1.pop()\n",
    "print(popped_element)\n",
    "popped_element=list1.pop(1)\n",
    "print(popped_element)"
   ]
  },
  {
   "cell_type": "code",
   "execution_count": 212,
   "id": "f644dc93-9c3c-46f9-8338-a7a78e64d326",
   "metadata": {},
   "outputs": [
    {
     "name": "stdout",
     "output_type": "stream",
     "text": [
      "2\n",
      "3\n"
     ]
    }
   ],
   "source": [
    "#count:count occurrence of an element\n",
    "list2=[1,2,2,3,4,4,4,5]\n",
    "print(list2.count(2))\n",
    "print(list2.count(4))"
   ]
  },
  {
   "cell_type": "code",
   "execution_count": 213,
   "id": "4a6ec20f-e1e8-4c8a-ab52-15879db07667",
   "metadata": {},
   "outputs": [
    {
     "data": {
      "text/plain": [
       "4"
      ]
     },
     "execution_count": 213,
     "metadata": {},
     "output_type": "execute_result"
    }
   ],
   "source": [
    "#index():returns the index of first occurence of element\n",
    "list2.index(4)"
   ]
  },
  {
   "cell_type": "code",
   "execution_count": 214,
   "id": "e09335f1-0e3c-4081-a719-1232798f48d5",
   "metadata": {},
   "outputs": [
    {
     "data": {
      "text/plain": [
       "1"
      ]
     },
     "execution_count": 214,
     "metadata": {},
     "output_type": "execute_result"
    }
   ],
   "source": [
    "list2.index(2)"
   ]
  },
  {
   "cell_type": "code",
   "execution_count": 215,
   "id": "38b8622e-ec54-4a3c-90ef-59007f3df3e8",
   "metadata": {},
   "outputs": [
    {
     "data": {
      "text/plain": [
       "1"
      ]
     },
     "execution_count": 215,
     "metadata": {},
     "output_type": "execute_result"
    }
   ],
   "source": [
    "#min and Max values\n",
    "min(list2)"
   ]
  },
  {
   "cell_type": "code",
   "execution_count": 216,
   "id": "239156d9-e4a2-4ba4-8577-b21a6fe5c5a6",
   "metadata": {},
   "outputs": [
    {
     "data": {
      "text/plain": [
       "5"
      ]
     },
     "execution_count": 216,
     "metadata": {},
     "output_type": "execute_result"
    }
   ],
   "source": [
    "max(list2)"
   ]
  },
  {
   "cell_type": "code",
   "execution_count": 217,
   "id": "a1fdd43a-56b3-40dd-90d1-a47496908845",
   "metadata": {},
   "outputs": [
    {
     "data": {
      "text/plain": [
       "[1, 2, 3, 1, 2, 3]"
      ]
     },
     "execution_count": 217,
     "metadata": {},
     "output_type": "execute_result"
    }
   ],
   "source": [
    "list3=[1,2,3]\n",
    "list4=list3*2  #return list with original list items 2 times\n",
    "list5=list3*3  #return list with original list items 3 times\n",
    "list4\n"
   ]
  },
  {
   "cell_type": "code",
   "execution_count": 218,
   "id": "f059717b-8337-4eaa-b549-83750e90e08d",
   "metadata": {},
   "outputs": [
    {
     "data": {
      "text/plain": [
       "[1, 2, 3, 1, 2, 3, 1, 2, 3]"
      ]
     },
     "execution_count": 218,
     "metadata": {},
     "output_type": "execute_result"
    }
   ],
   "source": [
    "list5"
   ]
  },
  {
   "cell_type": "markdown",
   "id": "b579fe4c-25ee-48f9-ab59-f1f2c9848c73",
   "metadata": {},
   "source": [
    "## Sets"
   ]
  },
  {
   "cell_type": "markdown",
   "id": "f3aa2931-8688-4fed-9679-b7da28ed6592",
   "metadata": {},
   "source": [
    "* Sets are\n",
    "  1. Mutable/Changeable\n",
    "  2. UnOrdered Sequence\n",
    "  3. Set defined between {}\n",
    "  4. Contains unique elements\n",
    "  5. Doesn't support indexing"
   ]
  },
  {
   "cell_type": "code",
   "execution_count": 219,
   "id": "3e0f50ac-24c7-4976-84d1-237383f14703",
   "metadata": {},
   "outputs": [
    {
     "data": {
      "text/plain": [
       "{1, 2, 3, 4}"
      ]
     },
     "execution_count": 219,
     "metadata": {},
     "output_type": "execute_result"
    }
   ],
   "source": [
    "#new set\n",
    "set1=set()\n",
    "set1={1,2,3,3,4}\n",
    "set1"
   ]
  },
  {
   "cell_type": "code",
   "execution_count": 220,
   "id": "b08ff8c6-fe72-41cc-990c-5c1f6d9bb3f9",
   "metadata": {},
   "outputs": [
    {
     "data": {
      "text/plain": [
       "{1, 2, 3, 4, 'chanchal'}"
      ]
     },
     "execution_count": 220,
     "metadata": {},
     "output_type": "execute_result"
    }
   ],
   "source": [
    "#Set functions (add,clear,difference,difference_update,intersection,intersection_update)\n",
    "#add function\n",
    "set1.add('chanchal')\n",
    "set1"
   ]
  },
  {
   "cell_type": "code",
   "execution_count": 221,
   "id": "9247a42d-cd35-463c-8019-dae3d4b46263",
   "metadata": {},
   "outputs": [
    {
     "data": {
      "text/plain": [
       "set()"
      ]
     },
     "execution_count": 221,
     "metadata": {},
     "output_type": "execute_result"
    }
   ],
   "source": [
    "#clear function (removes all elements of set\n",
    "set1.clear()\n",
    "set1"
   ]
  },
  {
   "cell_type": "code",
   "execution_count": 222,
   "id": "94f150d7-2f5f-417a-aa96-501b75e3145d",
   "metadata": {},
   "outputs": [],
   "source": [
    "set1={1,2,3,4,5,6}\n",
    "set2={45,67,1,2,3}\n"
   ]
  },
  {
   "cell_type": "code",
   "execution_count": 223,
   "id": "580f4a6c-bd9d-4ca1-a4ca-9fd3cad3ca54",
   "metadata": {},
   "outputs": [
    {
     "name": "stdout",
     "output_type": "stream",
     "text": [
      "result of difference: {4, 5, 6}\n",
      "set1: {1, 2, 3, 4, 5, 6} set2: {1, 2, 67, 3, 45}\n",
      "set1: {4, 5, 6} set2: {1, 2, 67, 3, 45}\n"
     ]
    }
   ],
   "source": [
    "#Difference will remove common elements\n",
    "print('result of difference:',set1.difference(set2)) #returns set1 after removing common element from set1\n",
    "print('set1:',set1,'set2:',set2)\n",
    "#set1 and set2 remauns unchanged\n",
    "set1.difference_update(set2) # this will update set1 with the resulting set and set2 remains unchanged\n",
    "print('set1:',set1,'set2:',set2)"
   ]
  },
  {
   "cell_type": "code",
   "execution_count": 224,
   "id": "363c03ac-3b49-4b2d-9e92-bce345ebb88a",
   "metadata": {},
   "outputs": [
    {
     "name": "stdout",
     "output_type": "stream",
     "text": [
      "result of intersection: {1, 2, 3}\n",
      "set1: {1, 2, 3, 4, 5, 6} set2: {1, 2, 67, 3, 45}\n",
      "set1: {1, 2, 3} set2: {1, 2, 67, 3, 45}\n"
     ]
    }
   ],
   "source": [
    "set1={1,2,3,4,5,6}\n",
    "set2={45,67,1,2,3}\n",
    "#intersection will remove uncommon elements\n",
    "print('result of intersection:',set1.intersection(set2)) #return set removing uncommon elements\n",
    "print('set1:',set1,'set2:',set2)\n",
    "set1.intersection_update(set2) # this will update set1 with the resulting set and set2 remains unchanged\n",
    "print('set1:',set1,'set2:',set2)"
   ]
  },
  {
   "cell_type": "markdown",
   "id": "e2681dcc-b81b-4590-a533-c78c1cbd2065",
   "metadata": {},
   "source": [
    "* Dictionaries are\n",
    "  1. Key-value pairs\n",
    "  2. Mutable/Changeable\n",
    "  3. UnOrdered Sequence\n",
    "  4. Set defined between {}\n",
    "  5. Indexed\n",
    "  6. type of dictionary id dict\n",
    "     \n",
    "**Keys must be unique otherwise it will overwrite existing key**"
   ]
  },
  {
   "cell_type": "code",
   "execution_count": 225,
   "id": "49802ed1-8fb9-4896-a0b3-eb03eaa8eb40",
   "metadata": {},
   "outputs": [
    {
     "data": {
      "text/plain": [
       "{}"
      ]
     },
     "execution_count": 225,
     "metadata": {},
     "output_type": "execute_result"
    }
   ],
   "source": [
    "dic=dict() #create empty dictionary\n",
    "dic"
   ]
  },
  {
   "cell_type": "code",
   "execution_count": 226,
   "id": "e9b758b5-7389-4e4f-b3ef-0c90385f3734",
   "metadata": {},
   "outputs": [
    {
     "data": {
      "text/plain": [
       "{'k1': 'v1', 'k2': 'v2', 'k3': 'v3'}"
      ]
     },
     "execution_count": 226,
     "metadata": {},
     "output_type": "execute_result"
    }
   ],
   "source": [
    "dic={'k1':'v1','k2':'v2','k3':'v3'}\n",
    "dic"
   ]
  },
  {
   "cell_type": "code",
   "execution_count": 227,
   "id": "89112a78-6810-4182-a694-8fcc44c77620",
   "metadata": {},
   "outputs": [
    {
     "data": {
      "text/plain": [
       "'v1'"
      ]
     },
     "execution_count": 227,
     "metadata": {},
     "output_type": "execute_result"
    }
   ],
   "source": [
    "#elements can be accessed using key names\n",
    "dic['k1']"
   ]
  },
  {
   "cell_type": "code",
   "execution_count": 228,
   "id": "5c0d4d85-c7a8-4269-b940-48fd7bd0f238",
   "metadata": {},
   "outputs": [
    {
     "name": "stdout",
     "output_type": "stream",
     "text": [
      "dict_items([('k1', 'v1'), ('k2', 'v2'), ('k3', 'v3')])\n",
      "dict_values(['v1', 'v2', 'v3'])\n",
      "dict_keys(['k1', 'k2', 'k3'])\n"
     ]
    }
   ],
   "source": [
    "#methods of dictionaries \n",
    "print(dic.items())\n",
    "print(dic.values())\n",
    "print(dic.keys())"
   ]
  },
  {
   "cell_type": "code",
   "execution_count": 229,
   "id": "13721635-d78a-41ea-90d0-3c7e7ec4032f",
   "metadata": {},
   "outputs": [
    {
     "name": "stdout",
     "output_type": "stream",
     "text": [
      "v1\n",
      "v2\n",
      "v3\n"
     ]
    }
   ],
   "source": [
    "#for loop can be used\n",
    "for key,value in dic.items():\n",
    "    print(value)"
   ]
  },
  {
   "cell_type": "code",
   "execution_count": 230,
   "id": "63b0de74-4527-4e8b-9934-85de56a4e147",
   "metadata": {},
   "outputs": [
    {
     "data": {
      "text/plain": [
       "{'k1': 'v1', 'k2': 'v2', 'k3': 'v3', 'k4': {'name': 'ch', 'school': 'RPS'}}"
      ]
     },
     "execution_count": 230,
     "metadata": {},
     "output_type": "execute_result"
    }
   ],
   "source": [
    "# to add new key value pair either nested dictionary or normal value\n",
    "#nested dictionary addition and access \n",
    "dic['k4']={'name':'ch','school':'RPS'}\n",
    "dic"
   ]
  },
  {
   "cell_type": "code",
   "execution_count": 231,
   "id": "83efda8e-2645-43ac-959f-a9303f1bb283",
   "metadata": {},
   "outputs": [
    {
     "data": {
      "text/plain": [
       "'RPS'"
      ]
     },
     "execution_count": 231,
     "metadata": {},
     "output_type": "execute_result"
    }
   ],
   "source": [
    "dic['k4']['school']"
   ]
  },
  {
   "cell_type": "code",
   "execution_count": 232,
   "id": "a805b6bf-c5e5-4b9c-8e00-9ac442c0ffef",
   "metadata": {},
   "outputs": [
    {
     "data": {
      "text/plain": [
       "{'k1': 'v1',\n",
       " 'k2': 'v2',\n",
       " 'k3': 'v3',\n",
       " 'k4': {'name': 'ch', 'school': 'RPS'},\n",
       " 'k6': 'v6'}"
      ]
     },
     "execution_count": 232,
     "metadata": {},
     "output_type": "execute_result"
    }
   ],
   "source": [
    "#new key pair addition and access\n",
    "dic['k6']='v6'\n",
    "dic"
   ]
  },
  {
   "cell_type": "code",
   "execution_count": 233,
   "id": "dec4bb21-9418-437c-8356-ee533c7a0497",
   "metadata": {},
   "outputs": [
    {
     "data": {
      "text/plain": [
       "'v6'"
      ]
     },
     "execution_count": 233,
     "metadata": {},
     "output_type": "execute_result"
    }
   ],
   "source": [
    "dic['k6']"
   ]
  },
  {
   "cell_type": "markdown",
   "id": "cb0e1717-c415-488e-a7b0-fe9b51f7aef0",
   "metadata": {},
   "source": [
    "* tuples are\n",
    "  1. notMutable/ can not be Changed once assigned\n",
    "  3. assignment not supported ,whole tuple value can be changed not item\n",
    "  4. Set defined between ()\n",
    "  5. Indexed\n",
    "  6. Can have different datatypes\n"
   ]
  },
  {
   "cell_type": "code",
   "execution_count": 234,
   "id": "dff60670-3263-4712-bf7e-6b160564349e",
   "metadata": {},
   "outputs": [
    {
     "data": {
      "text/plain": [
       "('k1', 'v1', 'z1', 22)"
      ]
     },
     "execution_count": 234,
     "metadata": {},
     "output_type": "execute_result"
    }
   ],
   "source": [
    "tup1=tuple() #empty tuple\n",
    "tup1\n",
    "tup2=('k1','v1','z1',22)\n",
    "tup2"
   ]
  },
  {
   "cell_type": "code",
   "execution_count": 235,
   "id": "49e5ee0d-0c20-4749-aeec-b4a632a52ec9",
   "metadata": {},
   "outputs": [
    {
     "data": {
      "text/plain": [
       "'k1'"
      ]
     },
     "execution_count": 235,
     "metadata": {},
     "output_type": "execute_result"
    }
   ],
   "source": [
    "#tuple accessing element\n",
    "tup2[0]"
   ]
  },
  {
   "cell_type": "code",
   "execution_count": 236,
   "id": "9855e45c-a8a2-4e55-9bfa-18043ecaec15",
   "metadata": {},
   "outputs": [
    {
     "ename": "TypeError",
     "evalue": "'tuple' object does not support item assignment",
     "output_type": "error",
     "traceback": [
      "\u001b[1;31m---------------------------------------------------------------------------\u001b[0m",
      "\u001b[1;31mTypeError\u001b[0m                                 Traceback (most recent call last)",
      "Cell \u001b[1;32mIn[236], line 2\u001b[0m\n\u001b[0;32m      1\u001b[0m \u001b[38;5;66;03m#assignment not supported so below code will give error\u001b[39;00m\n\u001b[1;32m----> 2\u001b[0m tup2[\u001b[38;5;241m3\u001b[39m]\u001b[38;5;241m=\u001b[39m\u001b[38;5;241m89\u001b[39m \u001b[38;5;66;03m#assignment not supported can not change item\u001b[39;00m\n\u001b[0;32m      3\u001b[0m tup2\n",
      "\u001b[1;31mTypeError\u001b[0m: 'tuple' object does not support item assignment"
     ]
    }
   ],
   "source": [
    "#assignment not supported so below code will give error\n",
    "tup2[3]=89 #assignment not supported can not change item\n",
    "tup2"
   ]
  },
  {
   "cell_type": "code",
   "execution_count": null,
   "id": "6307f6d4-03a5-4f5e-ba9c-121863b4f07c",
   "metadata": {},
   "outputs": [],
   "source": [
    "tup2=(1,2,2,3,4) #this is possible whole tuple can be changed in one go\n",
    "tup2"
   ]
  },
  {
   "cell_type": "code",
   "execution_count": null,
   "id": "98387fd4-ab2d-420c-b6d0-25024ff770b8",
   "metadata": {},
   "outputs": [],
   "source": [
    "#functions\n",
    "#count() counts number of items\n",
    "tup2.count(2)"
   ]
  },
  {
   "cell_type": "code",
   "execution_count": null,
   "id": "153b9bee-0b69-4cea-ad5c-f3052a6acf8f",
   "metadata": {},
   "outputs": [],
   "source": [
    "#index() method of first occurrence of element\n",
    "tup2.index(2)"
   ]
  },
  {
   "cell_type": "code",
   "execution_count": null,
   "id": "90a0370e-7f4f-4e8b-9803-3036a96bc6f9",
   "metadata": {},
   "outputs": [],
   "source": []
  }
 ],
 "metadata": {
  "kernelspec": {
   "display_name": "Python 3 (ipykernel)",
   "language": "python",
   "name": "python3"
  },
  "language_info": {
   "codemirror_mode": {
    "name": "ipython",
    "version": 3
   },
   "file_extension": ".py",
   "mimetype": "text/x-python",
   "name": "python",
   "nbconvert_exporter": "python",
   "pygments_lexer": "ipython3",
   "version": "3.12.7"
  }
 },
 "nbformat": 4,
 "nbformat_minor": 5
}

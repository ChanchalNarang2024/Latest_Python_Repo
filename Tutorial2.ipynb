{
 "cells": [
  {
   "cell_type": "code",
   "execution_count": 15,
   "id": "d71fce9f-d199-46c3-8151-37c79c1e3e5b",
   "metadata": {},
   "outputs": [],
   "source": [
    "%config IPCompleter.greedy=True"
   ]
  },
  {
   "cell_type": "markdown",
   "id": "d5e7d407-c22c-459e-9c57-f27727d7adb6",
   "metadata": {},
   "source": [
    "### List and Boolean variables"
   ]
  },
  {
   "cell_type": "code",
   "execution_count": 16,
   "id": "697682d5-d584-4de4-9fbe-d27ebf30a701",
   "metadata": {},
   "outputs": [],
   "source": [
    "#bool() to create boolean variable its either True or False"
   ]
  },
  {
   "cell_type": "markdown",
   "id": "91c8929d-a7a4-49c8-b089-9b93bc466412",
   "metadata": {},
   "source": [
    "#### String functions"
   ]
  },
  {
   "cell_type": "code",
   "execution_count": 36,
   "id": "5bb69048-46dd-48e7-96f2-3ff42a7cebf3",
   "metadata": {},
   "outputs": [],
   "source": [
    "my_str='Chanchal Narang'\n",
    "nstr='Chanchal9Narang'\n",
    "g_str='ChanchalNarang'\n",
    "f_str=' '\n",
    "h_str='123'"
   ]
  },
  {
   "cell_type": "code",
   "execution_count": 39,
   "id": "c5e07ad2-68e5-4dda-a52b-dc018f1eb416",
   "metadata": {},
   "outputs": [
    {
     "name": "stdout",
     "output_type": "stream",
     "text": [
      "False 1 Because space present\n",
      "True 2 No space mix of alphabets and numbers\n",
      "False 3 Because of space\n",
      "True 4 Because of no space and only alphabets\n",
      "False 5 No digit present\n",
      "False 6 contains 9 as digit\n",
      "True 7 first character of each word is capital,its a Title case\n",
      "False 8 because C and N are in uppercase\n",
      "False 9 except C and N all are lowercase\n",
      "True 10 all characters are space\n",
      "False 11 Has space and characters\n",
      "True 12 starts with C\n",
      "True 13 ends with g\n",
      "False 14 its case sensitive\n",
      "False 14 its case sensitive\n",
      "True 15 is it numeric\n"
     ]
    }
   ],
   "source": [
    "print(my_str.isalnum(),1,'Because space present')              #checks is alpha numeric: 'gives True if all alphabets/if all numeric/ mix'\n",
    "print(nstr.isalnum(),2,'No space mix of alphabets and numbers')  \n",
    "print(my_str.isalpha(),3,'Because of space') \n",
    "print(g_str.isalpha(),4,'Because of no space and only alphabets') \n",
    "print(my_str.isdigit(),5,'No digit present')    \n",
    "print(nstr.isdigit(),6,'contains 9 as digit')       \n",
    "print(my_str.istitle(),7,'first character of each word is capital,its a Title case')     \n",
    "print(my_str.islower(),8,'because C and N are in uppercase')       # checks lowercase\n",
    "print(my_str.isupper(),9,'except C and N all are lowercase')       # checks uppercase\n",
    "print(f_str.isspace(),10,'all characters are space')                            # checks if str all only spacing characters\n",
    "print(g_str.isspace(),11,'Has space and characters')\n",
    "print(my_str.startswith('C'),12,'starts with C') #checks first character of string\n",
    "print(my_str.endswith('g'),13,'ends with g')   # checks last character of string\n",
    "print(my_str.startswith('c'),14,'its case sensitive') #  just trying to whether its checking case sensitive \n",
    "print(my_str.endswith('G'),14,'its case sensitive')   #  just trying to whether its checking case sensitive \n",
    "print(h_str.isnumeric(),15,'is it numeric')"
   ]
  },
  {
   "cell_type": "code",
   "execution_count": null,
   "id": "792ee6f7-f332-4a09-964c-bb0337b98f89",
   "metadata": {},
   "outputs": [],
   "source": []
  }
 ],
 "metadata": {
  "kernelspec": {
   "display_name": "Python 3 (ipykernel)",
   "language": "python",
   "name": "python3"
  },
  "language_info": {
   "codemirror_mode": {
    "name": "ipython",
    "version": 3
   },
   "file_extension": ".py",
   "mimetype": "text/x-python",
   "name": "python",
   "nbconvert_exporter": "python",
   "pygments_lexer": "ipython3",
   "version": "3.12.7"
  }
 },
 "nbformat": 4,
 "nbformat_minor": 5
}
